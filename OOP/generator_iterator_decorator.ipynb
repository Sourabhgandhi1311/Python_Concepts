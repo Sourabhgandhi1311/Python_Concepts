{
 "cells": [
  {
   "cell_type": "code",
   "execution_count": 17,
   "metadata": {},
   "outputs": [
    {
     "name": "stdout",
     "output_type": "stream",
     "text": [
      "27\n"
     ]
    },
    {
     "data": {
      "text/plain": [
       "4"
      ]
     },
     "execution_count": 17,
     "metadata": {},
     "output_type": "execute_result"
    }
   ],
   "source": [
    "def power(num):\n",
    "    while num >= 1:\n",
    "        if num%2==0: yield num**2\n",
    "        elif num%3==0: yield num**3\n",
    "        else: yield num\n",
    "        num-=1\n",
    "\n",
    "# for number in power(12):\n",
    "#     print(number)\n",
    "a = power(3)\n",
    "print(next(a))\n",
    "next(a)\n",
    "next(a)\n",
    "\n",
    "mylist = [2,3,4,56,7]\n",
    "numbers = (num**2 for num in mylist)\n",
    "next(numbers)"
   ]
  },
  {
   "cell_type": "code",
   "execution_count": 2,
   "metadata": {},
   "outputs": [
    {
     "data": {
      "text/plain": [
       "3"
      ]
     },
     "execution_count": 2,
     "metadata": {},
     "output_type": "execute_result"
    }
   ],
   "source": [
    "# Iterators\n",
    "mylist = [2,3,4,56,7]\n",
    "a = iter(mylist)\n",
    "next(a)\n",
    "next(a)"
   ]
  },
  {
   "cell_type": "code",
   "execution_count": 6,
   "metadata": {},
   "outputs": [
    {
     "data": {
      "text/plain": [
       "8"
      ]
     },
     "execution_count": 6,
     "metadata": {},
     "output_type": "execute_result"
    }
   ],
   "source": [
    "# Creating our own iterator\n",
    "class squares:\n",
    "    def __init__(self, max=0):\n",
    "        self.max = max\n",
    "    def __iter__(self):\n",
    "        self.num=0\n",
    "        return self\n",
    "    def __next__(self):\n",
    "        if self.num <= self.max:\n",
    "            result=2**self.num\n",
    "            self.num+=1\n",
    "            return result\n",
    "        else:\n",
    "            raise StopIteration\n",
    "four = squares(4)\n",
    "square = iter(four)\n",
    "next(square)\n",
    "next(square)\n",
    "next(square)\n",
    "next(square)"
   ]
  }
 ],
 "metadata": {
  "interpreter": {
   "hash": "9f7ab010603a8732d235a9b74061d5558a9fbccade43a25f0941e83319918df6"
  },
  "kernelspec": {
   "display_name": "Python 3.8.7 64-bit",
   "language": "python",
   "name": "python3"
  },
  "language_info": {
   "codemirror_mode": {
    "name": "ipython",
    "version": 3
   },
   "file_extension": ".py",
   "mimetype": "text/x-python",
   "name": "python",
   "nbconvert_exporter": "python",
   "pygments_lexer": "ipython3",
   "version": "3.8.7"
  },
  "orig_nbformat": 4
 },
 "nbformat": 4,
 "nbformat_minor": 2
}
