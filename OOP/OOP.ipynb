{
 "cells": [
  {
   "cell_type": "code",
   "execution_count": 16,
   "metadata": {},
   "outputs": [
    {
     "name": "stdout",
     "output_type": "stream",
     "text": [
      "<bound method fruit.say of <__main__.fruit object at 0x000002492992D790>>\n",
      "red\n",
      "set new attr\n",
      "\n",
      "\n",
      "    Doc String for class fruit\n",
      "    \n",
      "fruit\n"
     ]
    }
   ],
   "source": [
    "class fruit:\n",
    "    \"\"\"\n",
    "    Doc String for class fruit\n",
    "    \"\"\"\n",
    "    # pass\n",
    "    color = \"\"\n",
    "    def say(self):\n",
    "        print(\"hello\")\n",
    "        print(self.color)\n",
    "        self.shape = \"round\"\n",
    "        \n",
    "f = fruit()\n",
    "f.color = \"red\"\n",
    "print(f.say)\n",
    "print(f.color)\n",
    "# print(f.shape)\n",
    "f.newattr = \"set new attr\"\n",
    "print(f.newattr)\n",
    "print(fruit.color)\n",
    "print(fruit.__doc__)\n",
    "# print(fruit.shape)\n",
    "print(fruit.__name__)"
   ]
  },
  {
   "cell_type": "code",
   "execution_count": 17,
   "metadata": {},
   "outputs": [
    {
     "name": "stdout",
     "output_type": "stream",
     "text": [
      "BlueGreenOrange\n",
      "2513199548656 \n",
      " 2513212248240\n"
     ]
    }
   ],
   "source": [
    "class Leaf:\n",
    "    color = \"Green\"\n",
    "    def __init__(self, color):\n",
    "        self.color = color\n",
    "\n",
    " \n",
    "\n",
    "leaf1 = Leaf(\"Blue\")\n",
    "\n",
    "color1 = leaf1.color\n",
    "\n",
    "leaf1.color = \"Orange\"\n",
    "\n",
    "color2 = leaf1.color\n",
    "\n",
    "color3 = Leaf.color\n",
    "\n",
    "print(color1+color3+color2)\n",
    "print(f\"{id(color1)} \\n {id(color2)}\")"
   ]
  },
  {
   "cell_type": "code",
   "execution_count": 13,
   "metadata": {},
   "outputs": [
    {
     "name": "stdout",
     "output_type": "stream",
     "text": [
      "Hello World\n"
     ]
    }
   ],
   "source": [
    "class SomeClass:\n",
    "    def __init__(self):\n",
    "        self.attr1 = 'Hello World'\n",
    "\n",
    " \n",
    "\n",
    "obj = SomeClass()\n",
    "\n",
    "setattr(obj, 'attr2', getattr(obj,'attr1'))\n",
    "\n",
    "print(obj.attr2)"
   ]
  },
  {
   "cell_type": "code",
   "execution_count": 5,
   "metadata": {},
   "outputs": [
    {
     "name": "stdout",
     "output_type": "stream",
     "text": [
      "7 0\n"
     ]
    }
   ],
   "source": [
    "# Operator Overloading\n",
    "class myfloat:                \n",
    "    def __init__(self,whole,fraction):  \n",
    "        self.whole=whole            \n",
    "        self.fraction=fraction     \n",
    "    def shownumber(self):                       \n",
    "        print(f\"I am {self.whole}.{self.fraction}\")   \n",
    "    def __add__(self,other):      \n",
    "        if (self.fraction+other.fraction)>9:                                        \n",
    "            return myfloat(self.whole+other.whole+1,self.fraction+other.fraction-10)            \n",
    "        return myfloat(self.whole+other.whole,self.fraction+other.fraction)\n",
    "\n",
    "obj1 = myfloat(3,7)\n",
    "obj2 = myfloat(3,3)\n",
    "result = obj1 + obj2\n",
    "print(result.whole, result.fraction)"
   ]
  },
  {
   "cell_type": "code",
   "execution_count": 6,
   "metadata": {},
   "outputs": [
    {
     "data": {
      "text/plain": [
       "1024"
      ]
     },
     "execution_count": 6,
     "metadata": {},
     "output_type": "execute_result"
    }
   ],
   "source": [
    "# Another Example of operator overloading\n",
    "class itspower:                \n",
    "    def __init__(self,x):                  \n",
    "            self.x=x                \n",
    "    def __pow__(self,other):                               \n",
    "            return self.x**other.x             \n",
    "a=itspower(2)\n",
    "b=itspower(10)\n",
    "a**b"
   ]
  },
  {
   "cell_type": "code",
   "execution_count": 14,
   "metadata": {},
   "outputs": [
    {
     "name": "stdout",
     "output_type": "stream",
     "text": [
      "Sourabh.Gandhi@gmail.com\n",
      "Pravin.Gandhi@gmail.com\n",
      "aish\n",
      "Email is not set. Please set it using setter\n"
     ]
    }
   ],
   "source": [
    "# Property Decorator\n",
    "class Employee:\n",
    "    def __init__(self,fname,lname):\n",
    "        self.fname = fname\n",
    "        self.lname = lname\n",
    "        # self.email = f\"{self.fname}.{self.lname}@gmail.com\"\n",
    "    @property\n",
    "    def email(self):\n",
    "        if self.fname==None or self.lname==None:\n",
    "            return \"Email is not set. Please set it using setter\"\n",
    "        return f\"{self.fname}.{self.lname}@gmail.com\"\n",
    "    @email.setter\n",
    "    def email(self,string):\n",
    "        names = string.split(\"@\")[0]\n",
    "        self.fname = names.split(\".\")[0]\n",
    "        self.lname = names.split(\".\")[1]\n",
    "\n",
    "    @email.deleter\n",
    "    def email(self):\n",
    "        self.fname = None\n",
    "        self.lname = None\n",
    "\n",
    "\n",
    "emp_obj = Employee(\"Sourabh\", \"Gandhi\")\n",
    "print(emp_obj.email)\n",
    "emp_obj.fname = \"Pravin\"\n",
    "print(emp_obj.email)\n",
    "emp_obj.email = \"aish.gandhi@gmail.com\"\n",
    "print(emp_obj.fname)\n",
    "del emp_obj.email\n",
    "print(emp_obj.email)"
   ]
  }
 ],
 "metadata": {
  "interpreter": {
   "hash": "9f7ab010603a8732d235a9b74061d5558a9fbccade43a25f0941e83319918df6"
  },
  "kernelspec": {
   "display_name": "Python 3.8.7 64-bit",
   "language": "python",
   "name": "python3"
  },
  "language_info": {
   "codemirror_mode": {
    "name": "ipython",
    "version": 3
   },
   "file_extension": ".py",
   "mimetype": "text/x-python",
   "name": "python",
   "nbconvert_exporter": "python",
   "pygments_lexer": "ipython3",
   "version": "3.8.7"
  },
  "orig_nbformat": 4
 },
 "nbformat": 4,
 "nbformat_minor": 2
}
