{
 "cells": [
  {
   "cell_type": "code",
   "execution_count": 21,
   "metadata": {},
   "outputs": [
    {
     "name": "stdout",
     "output_type": "stream",
     "text": [
      "#########\n",
      "$$$$$$$$\n",
      "hello\n"
     ]
    }
   ],
   "source": [
    "# Implement Decorator\n",
    "\n",
    "def decor(func):\n",
    "    def wrap():\n",
    "        print(\"$$$$$$$$\")\n",
    "        func()\n",
    "        # print(\"$$$$$$$$$$$\")\n",
    "    return wrap\n",
    "\n",
    "def onemoredecor(func):\n",
    "    def wrap():\n",
    "        print(\"#########\")\n",
    "        func()\n",
    "        # print(\"#########\")\n",
    "    return wrap\n",
    "\n",
    "@onemoredecor\n",
    "@decor # Pie Syntax\n",
    "def hello():\n",
    "    print(\"hello\")\n",
    "\n",
    "# newfunc = decor(hello)\n",
    "# newfunc()\n",
    "hello()"
   ]
  },
  {
   "cell_type": "code",
   "execution_count": null,
   "metadata": {},
   "outputs": [],
   "source": [
    "# Property Decorator\n",
    "\n",
    "class Employee:\n",
    "    def __init__(self,fname,lname):\n",
    "        self.fname = fname\n",
    "        self.lname = lname\n",
    "        # self.email = f\"{self.fname}.{self.lname}@gmail.com\"\n",
    "    @property\n",
    "    def email(self):\n",
    "        if self.fname==None or self.lname==None:\n",
    "            return \"Email is not set. Please set it using setter\"\n",
    "        return f\"{self.fname}.{self.lname}@gmail.com\"\n",
    "    @email.setter\n",
    "    def email(self,string):\n",
    "        names = string.split(\"@\")[0]\n",
    "        self.fname = names.split(\".\")[0]\n",
    "        self.lname = names.split(\".\")[1]\n",
    "\n",
    "    @email.deleter\n",
    "    def email(self):\n",
    "        self.fname = None\n",
    "        self.lname = None\n",
    "\n",
    "\n",
    "emp_obj = Employee(\"Sourabh\", \"Gandhi\")\n",
    "print(emp_obj.email)\n",
    "emp_obj.fname = \"Pravin\"\n",
    "print(emp_obj.email)\n",
    "emp_obj.email = \"aish.gandhi@gmail.com\"\n",
    "print(emp_obj.fname)\n",
    "del emp_obj.email\n",
    "print(emp_obj.email)"
   ]
  }
 ],
 "metadata": {
  "interpreter": {
   "hash": "9f7ab010603a8732d235a9b74061d5558a9fbccade43a25f0941e83319918df6"
  },
  "kernelspec": {
   "display_name": "Python 3.8.7 64-bit",
   "language": "python",
   "name": "python3"
  },
  "language_info": {
   "codemirror_mode": {
    "name": "ipython",
    "version": 3
   },
   "file_extension": ".py",
   "mimetype": "text/x-python",
   "name": "python",
   "nbconvert_exporter": "python",
   "pygments_lexer": "ipython3",
   "version": "3.8.7"
  },
  "orig_nbformat": 4
 },
 "nbformat": 4,
 "nbformat_minor": 2
}
