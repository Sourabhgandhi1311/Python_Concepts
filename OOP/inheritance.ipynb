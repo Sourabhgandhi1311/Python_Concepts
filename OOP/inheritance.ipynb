{
 "cells": [
  {
   "cell_type": "code",
   "execution_count": 4,
   "metadata": {},
   "outputs": [
    {
     "name": "stdout",
     "output_type": "stream",
     "text": [
      "I m fruit\n",
      "I m citrius\n"
     ]
    },
    {
     "data": {
      "text/plain": [
       "False"
      ]
     },
     "execution_count": 4,
     "metadata": {},
     "output_type": "execute_result"
    }
   ],
   "source": [
    "# Single Inheritance\n",
    "x = 0\n",
    "class fruit:\n",
    "    def __init__(self):\n",
    "        global x\n",
    "        x+=1\n",
    "        print(\"I m fruit\")\n",
    "\n",
    "class citrus(fruit):\n",
    "    def __init__(self):\n",
    "        super().__init__()\n",
    "        global x\n",
    "        x+=2\n",
    "        print(\"I m citrius\")\n",
    "\n",
    "lime = citrus()\n",
    "\n",
    "issubclass(citrus,fruit) # Inbuilt function to whether subclass or not."
   ]
  },
  {
   "cell_type": "code",
   "execution_count": 6,
   "metadata": {},
   "outputs": [
    {
     "name": "stdout",
     "output_type": "stream",
     "text": [
      "I m Bob\n"
     ]
    }
   ],
   "source": [
    "# Method Overriding\n",
    "class alice:\n",
    "    def sayhi(self):\n",
    "        print(\"I m Alice\")\n",
    "class bob(alice):\n",
    "    def sayhi(self):\n",
    "        print(\"I m Bob\")\n",
    "\n",
    "ob = bob()\n",
    "ob.sayhi()"
   ]
  },
  {
   "cell_type": "code",
   "execution_count": 11,
   "metadata": {},
   "outputs": [
    {
     "name": "stdout",
     "output_type": "stream",
     "text": [
      "Child\n"
     ]
    }
   ],
   "source": [
    "# Multilevel Inheritance\n",
    "class Parent:\n",
    "\n",
    " \n",
    "\n",
    "   def name(self):\n",
    "\n",
    "       print(\"Parent\")\n",
    "\n",
    " \n",
    "\n",
    "class Child(Parent):\n",
    "\n",
    " \n",
    "\n",
    "   def name(self):\n",
    "\n",
    "       print(\"Child\")\n",
    "\n",
    " \n",
    "\n",
    "class GrandChild(Child):\n",
    "\n",
    "   pass\n",
    "\n",
    " \n",
    "\n",
    "person = GrandChild()\n",
    "\n",
    "person.name()"
   ]
  },
  {
   "cell_type": "code",
   "execution_count": 9,
   "metadata": {},
   "outputs": [
    {
     "data": {
      "text/plain": [
       "15"
      ]
     },
     "execution_count": 9,
     "metadata": {},
     "output_type": "execute_result"
    }
   ],
   "source": [
    "# Method Overloading - Ideally Python does not support. But there is some way out!\n",
    "\n",
    "def add(instanceOf, *args):\n",
    "    if instanceOf == 'int':\n",
    "        result=0\n",
    "    if instanceOf == 'str':\n",
    "        result=''\n",
    "    for i in args:\n",
    "        result+=i\n",
    "    return result\n",
    "\n",
    "add('int',1,2,3,4,5)"
   ]
  },
  {
   "cell_type": "code",
   "execution_count": 26,
   "metadata": {},
   "outputs": [
    {
     "name": "stdout",
     "output_type": "stream",
     "text": [
      "To see\n"
     ]
    }
   ],
   "source": [
    "# Multiple Inheritance\n",
    "class Audio:\n",
    "\n",
    " \n",
    "\n",
    "   def use(self):\n",
    "\n",
    "       print(\"To listen\")\n",
    "\n",
    " \n",
    "\n",
    "class Video:\n",
    "\n",
    " \n",
    "\n",
    "   def use(self):\n",
    "\n",
    "       print(\"To see\")\n",
    "\n",
    " \n",
    "\n",
    "class Movie(Audio, Video):\n",
    "\n",
    " \n",
    "\n",
    "   def use(self):\n",
    "\n",
    "       super().use()\n",
    "\n",
    " \n",
    "\n",
    "m1 = Movie()\n",
    "\n",
    "m1.use()"
   ]
  },
  {
   "cell_type": "code",
   "execution_count": 23,
   "metadata": {},
   "outputs": [
    {
     "name": "stdout",
     "output_type": "stream",
     "text": [
      "Hello\n"
     ]
    }
   ],
   "source": [
    "class SuperClass:\n",
    "    hello___ = \"Hello\"\n",
    "\n",
    " \n",
    "\n",
    "class SubClass(SuperClass):\n",
    "    pass\n",
    "print(SuperClass.hello___)"
   ]
  }
 ],
 "metadata": {
  "interpreter": {
   "hash": "9f7ab010603a8732d235a9b74061d5558a9fbccade43a25f0941e83319918df6"
  },
  "kernelspec": {
   "display_name": "Python 3.8.7 64-bit",
   "language": "python",
   "name": "python3"
  },
  "language_info": {
   "codemirror_mode": {
    "name": "ipython",
    "version": 3
   },
   "file_extension": ".py",
   "mimetype": "text/x-python",
   "name": "python",
   "nbconvert_exporter": "python",
   "pygments_lexer": "ipython3",
   "version": "3.8.7"
  },
  "orig_nbformat": 4
 },
 "nbformat": 4,
 "nbformat_minor": 2
}
