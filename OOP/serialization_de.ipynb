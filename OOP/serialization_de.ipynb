{
 "cells": [
  {
   "cell_type": "code",
   "execution_count": 6,
   "metadata": {},
   "outputs": [
    {
     "name": "stdout",
     "output_type": "stream",
     "text": [
      "Eno: 10, Ename: Durga\n"
     ]
    }
   ],
   "source": [
    "# Serialization and Deserialization using pickle module\n",
    "import pickle\n",
    "\n",
    "class Employee:\n",
    "    def __init__(self,eno,ename,esal,eaddr):\n",
    "        self.eno = eno\n",
    "        self.ename = ename\n",
    "        self.esal = esal\n",
    "        self.eaddr = eaddr\n",
    "\n",
    "    def display(self):\n",
    "        print(\"Eno: {}, Ename: {}\".format(self.eno,self.ename))\n",
    "\n",
    "emp = Employee(10,\"Durga\",2000000,\"Hyd\")\n",
    "\n",
    "# Serialization or pickling\n",
    "with open(\"emp.ser\",\"wb\") as f:\n",
    "    pickle.dump(emp,f)\n",
    "\n",
    "# DeSerialization or unpickling\n",
    "with open(\"emp.ser\",\"rb\") as f:\n",
    "    emp_obj = pickle.load(f)\n",
    "    emp_obj.display()"
   ]
  },
  {
   "cell_type": "code",
   "execution_count": 14,
   "metadata": {},
   "outputs": [
    {
     "name": "stdout",
     "output_type": "stream",
     "text": [
      "{\n",
      "    \"age\": 35,\n",
      "    \"isHavingGF\": null,\n",
      "    \"isMarried\": true,\n",
      "    \"name\": \"Durga\",\n",
      "    \"salary\": 100000\n",
      "}\n"
     ]
    }
   ],
   "source": [
    "# Serialization and Deserialization using json module\n",
    "import json\n",
    "\n",
    "employee = {\n",
    "    \"name\": \"Durga\",\n",
    "    \"age\": 35,\n",
    "    \"salary\": 100000,\n",
    "    \"isMarried\": True,\n",
    "    \"isHavingGF\": None\n",
    "}\n",
    "\n",
    "json_string = json.dumps(employee, indent=4,sort_keys=True)\n",
    "print(json_string)\n",
    "\n",
    "with open('emp.json','w') as f:\n",
    "    json.dump(employee,f,indent=4)"
   ]
  }
 ],
 "metadata": {
  "interpreter": {
   "hash": "9f7ab010603a8732d235a9b74061d5558a9fbccade43a25f0941e83319918df6"
  },
  "kernelspec": {
   "display_name": "Python 3.8.7 64-bit",
   "language": "python",
   "name": "python3"
  },
  "language_info": {
   "codemirror_mode": {
    "name": "ipython",
    "version": 3
   },
   "file_extension": ".py",
   "mimetype": "text/x-python",
   "name": "python",
   "nbconvert_exporter": "python",
   "pygments_lexer": "ipython3",
   "version": "3.8.7"
  },
  "orig_nbformat": 4
 },
 "nbformat": 4,
 "nbformat_minor": 2
}
