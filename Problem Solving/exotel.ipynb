{
 "cells": [
  {
   "cell_type": "code",
   "execution_count": null,
   "metadata": {},
   "outputs": [],
   "source": [
    "Search an element in a sorted rotated array. given an array which sorted and then\n",
    "rotated k time writes an algorithm to search if an element is present in the array.\n",
    "ex :\n",
    "input : [3, 4, 5, 6, 1, 2] , 1\n",
    "output: true\n",
    "input: [3, 4, 5, 6, 1, 2], 10\n",
    "output: false\n",
    "input: [1, 2, 3, 4, 5, 6], 5\n",
    "output: true\n",
    "\n",
    "[1, 2, 3, 4, 5, 6]\n",
    "i\n",
    "target =  10\t         j\n",
    "mid = x\n",
    "\n",
    "mid == target.\n",
    "mid > target go left.\n",
    "mid < target go right.\n",
    "\n",
    "\n",
    "\n",
    "Find non-repeating number, given a list of integers where every number appears\n",
    "twice except for one number, how would you find out the number which appears\n",
    "only once in the list\n",
    "ex :\n",
    "input : [1, 2, 1]\n",
    "output : 2\n",
    "\n",
    "input : [1, 2, 4, 1 ,5, 2, 5]\n",
    "output: 4\n",
    "\n",
    "Count_dict = {}\n",
    "For i in input:\n",
    "\tIf i in Count_dict.keys():\n",
    "\t\tCount_dict[i]+=1\n",
    "\tElse:\n",
    "\t\tCount_dict[i] = 1\n",
    "# Count_dict = {1:2, 2:1}\n",
    "\n",
    "For k,v in Count_dict.items():\n",
    "\tIf v == 1:\n",
    "\t\tprint(k)\n",
    "\n",
    "XOR\n",
    "\n",
    "2 XOR 2 = 0\n",
    "1 XOR 1 = 0\n",
    "0 XOR 0 = 0\n"
   ]
  },
  {
   "cell_type": "code",
   "execution_count": 1,
   "metadata": {},
   "outputs": [
    {
     "data": {
      "text/plain": [
       "[1, 0, 1, 0]"
      ]
     },
     "execution_count": 1,
     "metadata": {},
     "output_type": "execute_result"
    }
   ],
   "source": [
    "# Write a function - for a number N, convert it to its binary representation, and return a list of values where true is 1, and false is 0.\n",
    "# 2 - 10 ---> True False\n",
    "\n",
    "# numb = int(input())\n",
    "def binary_rep(numb):\n",
    "    bin_list = []\n",
    "    while numb:\n",
    "        rem = numb % 2\n",
    "        bin_list.append(rem)\n",
    "        numb = int(numb/2)\n",
    "\n",
    "    \n",
    "\n",
    "    return bin_list[::-1]\n",
    "binary_rep(10)"
   ]
  },
  {
   "cell_type": "code",
   "execution_count": null,
   "metadata": {},
   "outputs": [],
   "source": [
    "# System Design\n",
    "Sending Receiviing\n",
    "Message Content - Text, iamges, videos\n",
    "Read receipts\n",
    "User Online check/ Last seen\n",
    "\n",
    "\n",
    "Backend Service - Websocket APIs, \n",
    "Storage - S3 buckets"
   ]
  }
 ],
 "metadata": {
  "interpreter": {
   "hash": "9f7ab010603a8732d235a9b74061d5558a9fbccade43a25f0941e83319918df6"
  },
  "kernelspec": {
   "display_name": "Python 3.8.7 64-bit",
   "language": "python",
   "name": "python3"
  },
  "language_info": {
   "codemirror_mode": {
    "name": "ipython",
    "version": 3
   },
   "file_extension": ".py",
   "mimetype": "text/x-python",
   "name": "python",
   "nbconvert_exporter": "python",
   "pygments_lexer": "ipython3",
   "version": "3.8.7"
  },
  "orig_nbformat": 4
 },
 "nbformat": 4,
 "nbformat_minor": 2
}
