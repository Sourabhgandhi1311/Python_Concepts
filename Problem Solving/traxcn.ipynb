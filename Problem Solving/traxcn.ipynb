{
 "cells": [
  {
   "cell_type": "code",
   "execution_count": 11,
   "metadata": {},
   "outputs": [
    {
     "name": "stdout",
     "output_type": "stream",
     "text": [
      "-+*++-\n"
     ]
    }
   ],
   "source": [
    "# For Traxcn. Question clicked in phone on 06/04-07/04\n",
    "\n",
    "input_str = input()\n",
    "sub_str_length = int(input())\n",
    "\n",
    "# Write an answer using print\n",
    "# To debug: print(\"Debug messages...\", file=sys.stderr, flush=True)\n",
    "i = 0\n",
    "unique_string_dict = {}\n",
    "while i < len(input_str):\n",
    "    sub_str = input_str[i:i+sub_str_length]\n",
    "    if sub_str in unique_string_dict.keys():\n",
    "        unique_string_dict[sub_str] += 1\n",
    "    else:\n",
    "        unique_string_dict[sub_str] = 1\n",
    "    i = i + sub_str_length\n",
    "unique_string_dict = {k:v for k,v in sorted(unique_string_dict.items(), key = lambda item: item[1])}\n",
    "result = \"\"\n",
    "for k,v in unique_string_dict.items():\n",
    "    result += k\n",
    "print(result)"
   ]
  }
 ],
 "metadata": {
  "interpreter": {
   "hash": "9f7ab010603a8732d235a9b74061d5558a9fbccade43a25f0941e83319918df6"
  },
  "kernelspec": {
   "display_name": "Python 3.8.7 64-bit",
   "language": "python",
   "name": "python3"
  },
  "language_info": {
   "codemirror_mode": {
    "name": "ipython",
    "version": 3
   },
   "file_extension": ".py",
   "mimetype": "text/x-python",
   "name": "python",
   "nbconvert_exporter": "python",
   "pygments_lexer": "ipython3",
   "version": "3.8.7"
  },
  "orig_nbformat": 4
 },
 "nbformat": 4,
 "nbformat_minor": 2
}
