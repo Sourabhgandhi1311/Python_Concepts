{
 "cells": [
  {
   "cell_type": "code",
   "execution_count": 6,
   "metadata": {},
   "outputs": [
    {
     "name": "stdout",
     "output_type": "stream",
     "text": [
      "[('Sourabh', 24, 97), ('Prajyot', 24, 97)]\n",
      "[('Prajyot', 24, 97), ('Sourabh', 24, 97)]\n"
     ]
    }
   ],
   "source": [
    "n = int(input(\"Enter total number of inputs\"))\n",
    "input_tuple_list = []\n",
    "for _ in range(n):\n",
    "    ele = input().split(\",\")\n",
    "    ele[1] = int(ele[1])\n",
    "    ele[2] = int(ele[2])\n",
    "    input_tuple_list.append(tuple(ele))\n",
    "print(sorted(input_tuple_list))"
   ]
  }
 ],
 "metadata": {
  "interpreter": {
   "hash": "9f7ab010603a8732d235a9b74061d5558a9fbccade43a25f0941e83319918df6"
  },
  "kernelspec": {
   "display_name": "Python 3.8.7 64-bit",
   "language": "python",
   "name": "python3"
  },
  "language_info": {
   "codemirror_mode": {
    "name": "ipython",
    "version": 3
   },
   "file_extension": ".py",
   "mimetype": "text/x-python",
   "name": "python",
   "nbconvert_exporter": "python",
   "pygments_lexer": "ipython3",
   "version": "3.8.7"
  },
  "orig_nbformat": 4
 },
 "nbformat": 4,
 "nbformat_minor": 2
}
